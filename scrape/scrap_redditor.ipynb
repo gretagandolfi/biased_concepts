{
 "cells": [
  {
   "cell_type": "code",
   "execution_count": 1,
   "metadata": {},
   "outputs": [],
   "source": [
    "import praw\n",
    "import pandas as pd\n",
    "import time\n",
    "import pickle\n",
    "import re"
   ]
  },
  {
   "cell_type": "code",
   "execution_count": 2,
   "metadata": {},
   "outputs": [],
   "source": [
    "reddit = praw.Reddit(client_id='lzOo_k4qtUITUA', client_secret='4YYaofL7Jm5CXeaqWuYlGPvwUkQ', user_agent='greta')"
   ]
  },
  {
   "cell_type": "code",
   "execution_count": 3,
   "metadata": {},
   "outputs": [],
   "source": [
    "# submissions\n",
    "topics_dict = {\"title\":[],\n",
    "                \"text\":[]}\n",
    "\n",
    "for x in reddit.redditor('name_of_moderator').new(limit=None):\n",
    "    if 'Submission' in str(type(x)):\n",
    "        topics_dict[\"title\"].append(x.title)\n",
    "        topics_dict[\"text\"].append(x.selftext)\n",
    "\n",
    "topics_data = pd.DataFrame(topics_dict)"
   ]
  },
  {
   "cell_type": "code",
   "execution_count": 114,
   "metadata": {},
   "outputs": [],
   "source": [
    "topics_data.to_csv('name_of_moderator.csv')"
   ]
  },
  {
   "cell_type": "code",
   "execution_count": 4,
   "metadata": {},
   "outputs": [],
   "source": [
    "# comments\n",
    "topics_dict = {\"body\":[],\n",
    "                \"sub\":[]}\n",
    "\n",
    "for x in reddit.redditor('name_of_moderator').comments.new(limit=None):\n",
    "        topics_dict[\"body\"].append(x.body)\n",
    "        topics_dict[\"sub\"].append(x.submission)\n",
    "\n",
    "topics_data = pd.DataFrame(topics_dict)"
   ]
  },
  {
   "cell_type": "code",
   "execution_count": 116,
   "metadata": {},
   "outputs": [],
   "source": [
    "topics_data.to_csv('name_of_moderator_comm.csv')"
   ]
  }
 ],
 "metadata": {
  "kernelspec": {
   "display_name": "Python 3",
   "language": "python",
   "name": "python3"
  },
  "language_info": {
   "codemirror_mode": {
    "name": "ipython",
    "version": 3
   },
   "file_extension": ".py",
   "mimetype": "text/x-python",
   "name": "python",
   "nbconvert_exporter": "python",
   "pygments_lexer": "ipython3",
   "version": "3.6.7"
  }
 },
 "nbformat": 4,
 "nbformat_minor": 2
}
